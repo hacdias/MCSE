{
 "cells": [
  {
   "cell_type": "code",
   "execution_count": 2,
   "metadata": {
    "scrolled": true
   },
   "outputs": [
    {
     "name": "stderr",
     "output_type": "stream",
     "text": [
      "auk 0.4.2 is designed for EBD files downloaded after 2019-08-15. \n",
      "EBD data directory:  /mnt/Windows/Users/Nimo/Documents/eBird \n",
      "eBird taxonomy version:  2019\n",
      "\n",
      "\n",
      "Attaching package: ‘lubridate’\n",
      "\n",
      "\n",
      "The following objects are masked from ‘package:base’:\n",
      "\n",
      "    date, intersect, setdiff, union\n",
      "\n",
      "\n",
      "Linking to GEOS 3.8.0, GDAL 3.0.4, PROJ 6.3.1\n",
      "\n",
      "── \u001b[1mAttaching packages\u001b[22m ──────────────────────────────────────────────────────────────────────────────────────────────────────────────── tidyverse 1.3.0 ──\n",
      "\n",
      "\u001b[32m✔\u001b[39m \u001b[34mggplot2\u001b[39m 3.3.2     \u001b[32m✔\u001b[39m \u001b[34mpurrr  \u001b[39m 0.3.4\n",
      "\u001b[32m✔\u001b[39m \u001b[34mtibble \u001b[39m 3.0.4     \u001b[32m✔\u001b[39m \u001b[34mdplyr  \u001b[39m 1.0.2\n",
      "\u001b[32m✔\u001b[39m \u001b[34mtidyr  \u001b[39m 1.1.2     \u001b[32m✔\u001b[39m \u001b[34mstringr\u001b[39m 1.4.0\n",
      "\u001b[32m✔\u001b[39m \u001b[34mreadr  \u001b[39m 1.4.0     \u001b[32m✔\u001b[39m \u001b[34mforcats\u001b[39m 0.5.0\n",
      "\n",
      "── \u001b[1mConflicts\u001b[22m ─────────────────────────────────────────────────────────────────────────────────────────────────────────────────── tidyverse_conflicts() ──\n",
      "\u001b[31m✖\u001b[39m \u001b[34mlubridate\u001b[39m::\u001b[32mas.difftime()\u001b[39m masks \u001b[34mbase\u001b[39m::as.difftime()\n",
      "\u001b[31m✖\u001b[39m \u001b[34mdplyr\u001b[39m::\u001b[32mcombine()\u001b[39m         masks \u001b[34mgridExtra\u001b[39m::combine()\n",
      "\u001b[31m✖\u001b[39m \u001b[34mlubridate\u001b[39m::\u001b[32mdate()\u001b[39m        masks \u001b[34mbase\u001b[39m::date()\n",
      "\u001b[31m✖\u001b[39m \u001b[34mdplyr\u001b[39m::\u001b[32mfilter()\u001b[39m          masks \u001b[34mstats\u001b[39m::filter()\n",
      "\u001b[31m✖\u001b[39m \u001b[34mlubridate\u001b[39m::\u001b[32mintersect()\u001b[39m   masks \u001b[34mbase\u001b[39m::intersect()\n",
      "\u001b[31m✖\u001b[39m \u001b[34mdplyr\u001b[39m::\u001b[32mlag()\u001b[39m             masks \u001b[34mstats\u001b[39m::lag()\n",
      "\u001b[31m✖\u001b[39m \u001b[34mlubridate\u001b[39m::\u001b[32msetdiff()\u001b[39m     masks \u001b[34mbase\u001b[39m::setdiff()\n",
      "\u001b[31m✖\u001b[39m \u001b[34mlubridate\u001b[39m::\u001b[32munion()\u001b[39m       masks \u001b[34mbase\u001b[39m::union()\n",
      "\n"
     ]
    }
   ],
   "source": [
    "library(auk)\n",
    "library(lubridate)\n",
    "library(sf)\n",
    "library(gridExtra)\n",
    "library(tidyverse)\n",
    "# resolve namespace conflicts\n",
    "select <- dplyr::select"
   ]
  },
  {
   "cell_type": "code",
   "execution_count": 10,
   "metadata": {},
   "outputs": [
    {
     "name": "stderr",
     "output_type": "stream",
     "text": [
      "EBD_PATH set to /mnt/Windows/Users/Nimo/Documents/eBird\n",
      "\n"
     ]
    }
   ],
   "source": [
    "# load full ebird observation and sampling data\n",
    "auk::auk_set_ebd_path(\"../data/ebird/\", overwrite = TRUE)\n",
    "\n",
    "ebd <- auk_ebd(\"full/ebd_relNov-2020.txt\", file_sampling = \"sampling/ebd_sampling_relNov-2020.txt\")"
   ]
  },
  {
   "cell_type": "code",
   "execution_count": 12,
   "metadata": {
    "scrolled": false
   },
   "outputs": [
    {
     "name": "stderr",
     "output_type": "stream",
     "text": [
      "Warning message in auk_species.auk_ebd(., \"Barn Swallow\"):\n",
      "“Based on the EBD filename, it appears you should use taxonomy_version = 2020”\n"
     ]
    },
    {
     "data": {
      "text/plain": [
       "Input \n",
       "  EBD: /mnt/Windows/Users/Nimo/Documents/eBird/full/ebd_relNov-2020.txt \n",
       "  Sampling events: /mnt/Windows/Users/Nimo/Documents/eBird/sampling/ebd_sampling_relNov-2020.txt \n",
       "\n",
       "Output \n",
       "  Filters not executed\n",
       "\n",
       "Filters \n",
       "  Species: Hirundo rustica\n",
       "  Countries: all\n",
       "  States: all\n",
       "  Counties: all\n",
       "  BCRs: all\n",
       "  Bounding box: Lon -30 - 60; Lat -90 - 90\n",
       "  Years: all\n",
       "  Date: 1950-01-01 - 2020-12-31\n",
       "  Start time: all\n",
       "  Last edited date: all\n",
       "  Protocol: all\n",
       "  Project code: all\n",
       "  Duration: all\n",
       "  Distance travelled: all\n",
       "  Records with breeding codes only: no\n",
       "  Complete checklists only: no"
      ]
     },
     "metadata": {},
     "output_type": "display_data"
    }
   ],
   "source": [
    "# specify filters without executing them yet\n",
    "ebd_filters <- ebd %>%\n",
    "    auk_species(\"Barn Swallow\") %>% # only observations of Barn Swallows\n",
    "    auk_date(c(\"1950-01-01\", \"2020-12-31\")) %>% # only from 1950 and later\n",
    "    auk_bbox(c(-30, -90, 60, 90)) # only Europe and Africa (longitude between 30W and 60E)\n",
    "\n",
    "ebd_filters"
   ]
  },
  {
   "cell_type": "code",
   "execution_count": 14,
   "metadata": {},
   "outputs": [
    {
     "name": "stderr",
     "output_type": "stream",
     "text": [
      "Warning message in auk_filter.auk_ebd(ebd_filters, file = f_ebd, file_sampling = f_sampling):\n",
      "“Sampling event data file provided, but filters have not been  set to only return complete checklists. Complete checklists  are required for zero-filling. You may want to use  auk_complete(), or manually filter out incomplete checklists.”\n"
     ]
    },
    {
     "ename": "ERROR",
     "evalue": "Error in auk_filter.auk_ebd(ebd_filters, file = f_ebd, file_sampling = f_sampling): Error running AWK command.\n",
     "output_type": "error",
     "traceback": [
      "Error in auk_filter.auk_ebd(ebd_filters, file = f_ebd, file_sampling = f_sampling): Error running AWK command.\nTraceback:\n",
      "1. auk_filter(ebd_filters, file = f_ebd, file_sampling = f_sampling)   # at line 13 of file <text>",
      "2. auk_filter.auk_ebd(ebd_filters, file = f_ebd, file_sampling = f_sampling)",
      "3. stop(\"Error running AWK command.\")"
     ]
    }
   ],
   "source": [
    "# execute filters and output text files\n",
    "# THIS STEP CAN TAKE SEVERAL HOURS\n",
    "\n",
    "output_dir <- \"../data/ebird/output\"\n",
    "if (!dir.exists(output_dir)) {\n",
    "    dir.create(output_dir)\n",
    "}\n",
    "f_ebd <- file.path(output_dir, \"ebd_barswa_1950_2020.txt\")\n",
    "f_sampling <- file.path(output_dir, \"ebd_checklists_1950_2020.txt\")\n",
    "\n",
    "# only run if the files don't already exist\n",
    "if (!file.exists(f_ebd)) {\n",
    "    auk_filter(ebd_filters, file = f_ebd, file_sampling = f_sampling)\n",
    "} else {\n",
    "    warning(\"file already exists\")\n",
    "}"
   ]
  }
 ],
 "metadata": {
  "kernelspec": {
   "display_name": "R",
   "language": "R",
   "name": "ir"
  },
  "language_info": {
   "codemirror_mode": "r",
   "file_extension": ".r",
   "mimetype": "text/x-r-source",
   "name": "R",
   "pygments_lexer": "r",
   "version": "3.6.3"
  }
 },
 "nbformat": 4,
 "nbformat_minor": 4
}
